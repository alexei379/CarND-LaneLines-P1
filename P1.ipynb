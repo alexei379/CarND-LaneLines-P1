{
 "cells": [
  {
   "cell_type": "markdown",
   "metadata": {},
   "source": [
    "# Self-Driving Car Engineer Nanodegree\n",
    "\n",
    "## Project: **Finding Lane Lines on the Road** "
   ]
  },
  {
   "cell_type": "markdown",
   "metadata": {},
   "source": [
    "## Import Packages"
   ]
  },
  {
   "cell_type": "code",
   "execution_count": null,
   "metadata": {
    "collapsed": true,
    "scrolled": true
   },
   "outputs": [],
   "source": [
    "import matplotlib.pyplot as plt\n",
    "import matplotlib.image as mpimg\n",
    "import numpy as np\n",
    "import cv2\n",
    "import os\n",
    "%matplotlib inline"
   ]
  },
  {
   "cell_type": "code",
   "execution_count": null,
   "metadata": {
    "collapsed": true,
    "scrolled": true
   },
   "outputs": [],
   "source": [
    "import math\n",
    "\n",
    "class mean_tracker(object):\n",
    "    # helper static class to keep track of mean slope/intercept values\n",
    "    # call reset method before processing new series of images\n",
    "    mean_over_last_n = 5\n",
    "    slopes = [np.array([]), np.array([])]\n",
    "    intercepts = [np.array([]), np.array([])]\n",
    "    \n",
    "    @staticmethod\n",
    "    def reset(n = 5):\n",
    "        mean_tracker.mean_over_last_n = n\n",
    "        mean_tracker.slopes = [np.array([]), np.array([])]\n",
    "        mean_tracker.intercepts = [np.array([]), np.array([])]\n",
    "        \n",
    "    @staticmethod\n",
    "    def add_and_get(slope, intercept):\n",
    "        # keep left and right lane marks in the separate arrays\n",
    "        idx = 0 if slope < 0 else 1\n",
    "        if (mean_tracker.slopes[idx].size >= mean_tracker.mean_over_last_n):\n",
    "            mean_tracker.slopes[idx] = np.append(mean_tracker.slopes[idx][-mean_tracker.mean_over_last_n+1:], slope)\n",
    "            mean_tracker.intercepts[idx] = np.append(mean_tracker.intercepts[idx][-mean_tracker.mean_over_last_n+1:], intercept)\n",
    "            slope = np.mean(mean_tracker.slopes[idx])\n",
    "            intercept = np.mean(mean_tracker.intercepts[idx])\n",
    "        else:\n",
    "            mean_tracker.slopes[idx] = np.array([slope for i in range(0, mean_tracker.mean_over_last_n)])\n",
    "            mean_tracker.intercepts[idx] = np.array([intercept for i in range(0, mean_tracker.mean_over_last_n)])             \n",
    "        return [slope, intercept]\n",
    "\n",
    "def mask_lanes(image):\n",
    "    # Apply a mask to keep only \"white\" and \"yellow\" colors\n",
    "    lower_yellow = np.array([128,128,0])\n",
    "    upper_yellow = np.array([255,255,100])\n",
    "    yellow_mask = cv2.inRange(image, lower_yellow, upper_yellow)\n",
    "    \n",
    "    lower_white = np.array([220,220,220])\n",
    "    upper_white = np.array([255,255,255])\n",
    "    white_mask = cv2.inRange(image, lower_white, upper_white)\n",
    "    \n",
    "    mask = cv2.add(white_mask, yellow_mask)\n",
    "    blurred_mask = cv2.GaussianBlur(mask,(5, 5),0)\n",
    "    \n",
    "    return cv2.bitwise_and(image,image, mask= blurred_mask)\n",
    "\n",
    "def grayscale(img):\n",
    "    return cv2.cvtColor(img, cv2.COLOR_RGB2GRAY)\n",
    "    \n",
    "def canny(img, low_threshold, high_threshold):\n",
    "    # Applies the Canny transform\n",
    "    return cv2.Canny(img, low_threshold, high_threshold)\n",
    "\n",
    "def gaussian_blur(img, kernel_size):\n",
    "    # Applies a Gaussian Noise kernel\n",
    "    return cv2.GaussianBlur(img, (kernel_size, kernel_size), 0)\n",
    "\n",
    "def region_of_interest(img, vertices):\n",
    "    \"\"\"\n",
    "    Applies an image mask.\n",
    "    \n",
    "    Only keeps the region of the image defined by the polygon\n",
    "    formed from `vertices`. The rest of the image is set to black.\n",
    "    \"\"\"\n",
    "    #defining a blank mask to start with\n",
    "    mask = np.zeros_like(img)   \n",
    "    \n",
    "    # defining a 3 channel or 1 channel color to fill the mask with depending on the input image\n",
    "    if len(img.shape) > 2:\n",
    "        channel_count = img.shape[2]  # i.e. 3 or 4 depending on your image\n",
    "        ignore_mask_color = (255,) * channel_count\n",
    "    else:\n",
    "        ignore_mask_color = 255\n",
    "        \n",
    "    # filling pixels inside the polygon defined by \"vertices\" with the fill color    \n",
    "    cv2.fillPoly(mask, vertices, ignore_mask_color)\n",
    "    \n",
    "    # returning the image only where mask pixels are nonzero\n",
    "    masked_image = cv2.bitwise_and(img, mask)\n",
    "    return masked_image\n",
    "\n",
    "def hough_lines(img, rho, theta, threshold, min_line_len, max_line_gap):\n",
    "    # `img` should be the output of a Canny transform.\n",
    "    return cv2.HoughLinesP(img, rho, theta, threshold, np.array([]), minLineLength=min_line_len, maxLineGap=max_line_gap)\n",
    "\n",
    "def lane_line_filter(img_center):\n",
    "    # treat lines with with unexpected slopes as noise\n",
    "    def noise_filter(line):\n",
    "        for x1,y1,x2,y2 in line:\n",
    "            slope = (y2-y1)/(x2-x1)\n",
    "            return (slope < -0.4 and x1 < img_center) or (slope > 0.4 and x1 > img_center)\n",
    "    return noise_filter\n",
    "\n",
    "def filter_lines(lines, img_center):\n",
    "    return list(filter(lane_line_filter(img_center), lines))\n",
    "\n",
    "def is_left_line(line, img_center):\n",
    "    for x1,y1,x2,y2 in line:\n",
    "        return x1 < img_center\n",
    "\n",
    "def partition_lines(lines, img_center):\n",
    "    # partition lines to the left/right by horizontal location relative to the center of the image\n",
    "    left_lines, right_lines = [], []\n",
    "    for line in lines:\n",
    "        (left_lines, right_lines)[is_left_line(line, img_center)].append(line)\n",
    "    return left_lines, right_lines\n",
    "    \n",
    "def draw_lines(img, lines, color=[255, 0, 0], thickness=2):\n",
    "    for line in lines:\n",
    "        for x1,y1,x2,y2 in line:\n",
    "            cv2.line(img, (x1, y1), (x2, y2), color, thickness)\n",
    "\n",
    "def extract_xy(lines):\n",
    "    xs, ys = [], []\n",
    "    for line in lines:\n",
    "        for x1,y1,x2,y2 in line:\n",
    "            xs.extend([x1, x2])\n",
    "            ys.extend([y1, y2])\n",
    "    return xs, ys\n",
    "\n",
    "def fit_line(lines, low_y, high_y):\n",
    "    # aproximates lines with a single line using the running mean value\n",
    "    [xs, ys] = extract_xy(lines);\n",
    "    [slope, intercept] = np.polyfit(xs, ys, 1)\n",
    "    [slope, intercept] = mean_tracker.add_and_get(slope, intercept)\n",
    "    \n",
    "    low_x = (low_y - intercept) / slope\n",
    "    high_x = (high_y - intercept) / slope\n",
    "    \n",
    "    return [[int(low_x), int(low_y), int(high_x), int(high_y)]]\n",
    "\n",
    "def draw_raw_lines(lines, img):\n",
    "    line_img = np.zeros((img.shape[0], img.shape[1], 3), dtype=np.uint8)\n",
    "    draw_lines(line_img, lines, [255, 0, 0], 4)\n",
    "    return line_img\n",
    "\n",
    "def draw_mean_lines(lines, img):\n",
    "    line_img = np.zeros((img.shape[0], img.shape[1], 3), dtype=np.uint8)\n",
    "    \n",
    "    low_y = 0.65 * img.shape[0]\n",
    "    high_y = img.shape[0]\n",
    "    img_center = img.shape[1] / 2\n",
    "    \n",
    "    # categorize as left/right\n",
    "    [left_lines, right_lines] = partition_lines(lines, img_center)\n",
    "    draw_lines(line_img, [fit_line(left_lines, low_y, high_y)], [255, 0, 0], 14)\n",
    "    draw_lines(line_img, [fit_line(right_lines, low_y, high_y)], [0, 0, 255], 14)\n",
    "    \n",
    "    return line_img\n",
    "\n",
    "# Python 3 has support for cool math symbols.\n",
    "\n",
    "def weighted_img(initial_img, img, α=0.8, β=1., λ=0.):    \n",
    "    # The result image is computed as follows: initial_img * α + img * β + λ    \n",
    "    return cv2.addWeighted(initial_img, α, img, β, λ)"
   ]
  },
  {
   "cell_type": "markdown",
   "metadata": {},
   "source": [
    "## Lane Finding Pipeline"
   ]
  },
  {
   "cell_type": "code",
   "execution_count": null,
   "metadata": {
    "collapsed": true
   },
   "outputs": [],
   "source": [
    "gauss_kernel = 7\n",
    "\n",
    "canny_low_threshold = 50\n",
    "canny_high_threshold = 150\n",
    "\n",
    "rho = 1 # distance resolution in pixels of the Hough grid\n",
    "theta = np.pi/180 # angular resolution in radians of the Hough grid\n",
    "threshold = 15     # minimum number of votes (intersections in Hough grid cell)\n",
    "min_line_length = 3 # minimum number of pixels making up a line\n",
    "max_line_gap = 5   # maximum gap in pixels between connectable line segments\n",
    "\n",
    "def region_of_interest_points(xsize, ysize):\n",
    "    left_bottom = [0, ysize]\n",
    "    right_bottom = [xsize, ysize]\n",
    "    left_top = [xsize* 0.45, ysize * 0.60]\n",
    "    right_top = [xsize* 0.55, ysize * 0.60]\n",
    "    return np.array([[left_bottom, right_bottom, right_top, left_top]], np.int32)    \n",
    "\n",
    "def image_pipeline(image, reset_mean = False):\n",
    "    if reset_mean:\n",
    "        mean_tracker.reset()\n",
    "    \n",
    "    ysize = image.shape[0]\n",
    "    xsize = image.shape[1]\n",
    "    img_center = image.shape[1] / 2\n",
    "    \n",
    "    pts_of_interest = region_of_interest_points(xsize, ysize)\n",
    "    \n",
    "    masked_lanes = mask_lanes(image)\n",
    "    \n",
    "    gray = grayscale(masked_lanes)    \n",
    "    blured = gaussian_blur(gray, gauss_kernel)\n",
    "            \n",
    "    edges = canny(blured, canny_low_threshold, canny_high_threshold)\n",
    "            \n",
    "    region = region_of_interest(edges, [pts_of_interest])\n",
    "    \n",
    "    h_lines = hough_lines(region, rho, theta, threshold, min_line_length, max_line_gap)\n",
    "   \n",
    "    filtered_lines = filter_lines(h_lines, img_center)\n",
    "    \n",
    "    lines_img = draw_mean_lines(filtered_lines, image)\n",
    "    \n",
    "    return weighted_img(image, lines_img)"
   ]
  },
  {
   "cell_type": "markdown",
   "metadata": {},
   "source": [
    "## Test on Images"
   ]
  },
  {
   "cell_type": "code",
   "execution_count": null,
   "metadata": {
    "scrolled": false
   },
   "outputs": [],
   "source": [
    "def show_image(img, cmap=None, save_as=None):\n",
    "    my_dpi=96\n",
    "    height=540\n",
    "    width=960\n",
    "    \n",
    "    fig = plt.figure(figsize=(width/my_dpi, height/my_dpi), dpi=my_dpi, frameon=False)\n",
    "    ax = fig.add_axes([0, 0, 1, 1])\n",
    "    ax.axis('off')\n",
    "    plt.imshow(img, cmap)\n",
    "    \n",
    "    if save_as != None:\n",
    "        plt.savefig(save_as)\n",
    "\n",
    "# testing individual functions of the pipeline\n",
    "mean_tracker.reset()\n",
    "\n",
    "pipeline_demo_output_dir = 'pipeline_demo/'\n",
    "image = mpimg.imread('test_images/solidYellowLeft-0291_pre.jpg')\n",
    "show_image(image)\n",
    "\n",
    "ysize = image.shape[0]\n",
    "xsize = image.shape[1]\n",
    "img_center = image.shape[1] / 2\n",
    "\n",
    "pts_of_interest = region_of_interest_points(xsize, ysize)\n",
    "\n",
    "masked_lanes = mask_lanes(image)\n",
    "show_image(masked_lanes, None, pipeline_demo_output_dir + '1_masked_lanes.jpg')\n",
    "\n",
    "gray = grayscale(masked_lanes)\n",
    "show_image(gray, 'gray', pipeline_demo_output_dir + '2_gray.jpg')\n",
    "\n",
    "blured = gaussian_blur(gray, gauss_kernel)\n",
    "show_image(blured, 'gray', pipeline_demo_output_dir + '3_blured.jpg')\n",
    "\n",
    "edges = canny(blured, canny_low_threshold, canny_high_threshold)\n",
    "show_image(edges, 'gray', pipeline_demo_output_dir + '4_edges.jpg')\n",
    "\n",
    "region = region_of_interest(edges, [pts_of_interest])\n",
    "show_image(region, 'gray', pipeline_demo_output_dir + '5_region.jpg')\n",
    "\n",
    "h_lines = hough_lines(region, rho, theta, threshold, min_line_length, max_line_gap)\n",
    "raw_lines_img = draw_raw_lines(h_lines, image)\n",
    "show_image(weighted_img(image, raw_lines_img), None, pipeline_demo_output_dir + '6_raw_lines.jpg')\n",
    "\n",
    "filtered_lines = filter_lines(h_lines, img_center)\n",
    "raw_filtered_lines_img = draw_raw_lines(filtered_lines, image)\n",
    "show_image(weighted_img(image, raw_filtered_lines_img), None, pipeline_demo_output_dir + '6_raw_filtered_lines.jpg')\n",
    "\n",
    "lines_img = draw_mean_lines(filtered_lines, image)\n",
    "show_image(weighted_img(image, lines_img), None, pipeline_demo_output_dir + '7_lines.jpg')"
   ]
  },
  {
   "cell_type": "code",
   "execution_count": null,
   "metadata": {
    "scrolled": false
   },
   "outputs": [],
   "source": [
    "# Testing pipeline that will draw lane lines on the test_images\n",
    "# then save them to the test_images directory.\n",
    "test_images_dir = 'test_images/'\n",
    "test_images_output_dir = 'test_images_output/'\n",
    "\n",
    "for test_image_filename in os.listdir(test_images_dir): \n",
    "    image = mpimg.imread(test_images_dir + test_image_filename)    \n",
    "    \n",
    "    res = image_pipeline(image, True)\n",
    "    show_image(res, None, test_images_output_dir + test_image_filename)"
   ]
  },
  {
   "cell_type": "markdown",
   "metadata": {},
   "source": [
    "## Test on Videos"
   ]
  },
  {
   "cell_type": "code",
   "execution_count": null,
   "metadata": {
    "collapsed": true,
    "scrolled": true
   },
   "outputs": [],
   "source": [
    "# Import everything needed to edit/save/watch video clips\n",
    "from moviepy.editor import VideoFileClip\n",
    "from IPython.display import HTML"
   ]
  },
  {
   "cell_type": "code",
   "execution_count": null,
   "metadata": {
    "collapsed": true,
    "scrolled": true
   },
   "outputs": [],
   "source": [
    "def process_video(input_path, output_path):\n",
    "    mean_tracker.reset()\n",
    "    in_clip = VideoFileClip(input_path)\n",
    "    out_clip = in_clip.fl_image(image_pipeline) \n",
    "    %time out_clip.write_videofile(output_path, audio=False)"
   ]
  },
  {
   "cell_type": "code",
   "execution_count": null,
   "metadata": {
    "scrolled": true
   },
   "outputs": [],
   "source": [
    "process_video('test_videos/solidWhiteRight.mp4', 'test_videos_output/solidWhiteRight.mp4')"
   ]
  },
  {
   "cell_type": "code",
   "execution_count": null,
   "metadata": {
    "scrolled": true
   },
   "outputs": [],
   "source": [
    "process_video('test_videos/solidYellowLeft.mp4', 'test_videos_output/solidYellowLeft.mp4')"
   ]
  },
  {
   "cell_type": "markdown",
   "metadata": {
    "collapsed": true
   },
   "source": [
    "## Optional Challenge"
   ]
  },
  {
   "cell_type": "code",
   "execution_count": null,
   "metadata": {
    "scrolled": true
   },
   "outputs": [],
   "source": [
    "process_video('test_videos/challenge.mp4', 'test_videos_output/challenge.mp4')"
   ]
  }
 ],
 "metadata": {
  "anaconda-cloud": {},
  "kernelspec": {
   "display_name": "Python 3",
   "language": "python",
   "name": "python3"
  },
  "language_info": {
   "codemirror_mode": {
    "name": "ipython",
    "version": 3
   },
   "file_extension": ".py",
   "mimetype": "text/x-python",
   "name": "python",
   "nbconvert_exporter": "python",
   "pygments_lexer": "ipython3",
   "version": "3.5.2"
  },
  "widgets": {
   "state": {},
   "version": "1.1.2"
  }
 },
 "nbformat": 4,
 "nbformat_minor": 1
}
